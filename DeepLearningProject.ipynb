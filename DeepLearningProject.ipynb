{
 "cells": [
  {
   "cell_type": "markdown",
   "id": "b656d736",
   "metadata": {},
   "source": [
    "1. Import Libraires\n",
    "2. Import Model for transfer_learning\n",
    "3. Freeze few layers \n",
    "4. Add and make modifications for Out put layer to suit our specific use case\n",
    "5. Compile and fit on training dataset\n",
    "6. Check accuracy graphs and evaluate model perofrmance\n",
    "7. Test on new datasets"
   ]
  },
  {
   "cell_type": "markdown",
   "id": "e6dc7c35",
   "metadata": {},
   "source": [
    "## Import Libraries"
   ]
  },
  {
   "cell_type": "code",
   "execution_count": 1,
   "id": "baa80c45",
   "metadata": {},
   "outputs": [],
   "source": [
    "#import keras\n",
    "import numpy as np\n",
    "import tensorflow as tf \n",
    "from tensorflow import keras\n",
    "import tensorflow.keras as K\n",
    "import os\n",
    "import cv2\n",
    "\n",
    "from keras.models import Sequential\n",
    "from keras.layers import Dense, Dropout, Flatten, Activation\n",
    "from keras.layers import Conv2D, MaxPooling2D\n",
    "from keras.applications import inception_v3,vgg16,vgg19,resnet\n",
    "\n",
    "from tensorflow.keras import applications # https://www.tensorflow.org/api_docs/python/tf/keras/applications\n",
    "from tensorflow.keras import models # https://www.tensorflow.org/api_docs/python/tf/keras/models\n",
    "from tensorflow.keras import layers # https://keras.io/api/layers/\n",
    "from tensorflow.keras import optimizers # https://keras.io/api/optimizers/\n",
    "from keras.utils import normalize\n",
    "\n",
    "import pandas as pd\n",
    "#from keras.utils import plot_model\n",
    "from keras.utils.vis_utils import plot_model\n",
    "#from keras.utils import np_utils\n",
    "from keras import utils as np_utils\n",
    "#from keras.utils import to_categorical\n",
    "from tensorflow.keras.utils import to_categorical\n",
    "pd.set_option('display.max_columns',None)#displaying long list of columns\n",
    "pd.set_option('display.max_rows', None)#displaying long list of rows\n",
    "pd.set_option('display.width', 1000)#width of window"
   ]
  },
  {
   "cell_type": "markdown",
   "id": "4f91554e",
   "metadata": {},
   "source": [
    "### Creating a Training Dataset\n",
    "With Folder structure, we can create our training dataset and assign labels to each type of item"
   ]
  },
  {
   "cell_type": "code",
   "execution_count": 2,
   "id": "cbe4f6f9",
   "metadata": {},
   "outputs": [],
   "source": [
    "training_data=[]\n",
    "IMG_SIZE=224\n",
    "def create_training():\n",
    "    Datadir=os.path.join(os.getcwd(),\"Dataset\")\n",
    "    Categories=['Pizza','Soda','Bagel']\n",
    "    # Get into each folder\n",
    "    for cat in Categories:\n",
    "        path=os.path.join(Datadir,cat)\n",
    "        # For each image at Path\n",
    "        for img in os.listdir(path):\n",
    "            try:\n",
    "                img=cv2.imread(os.path.join(path,img))\n",
    "                newimg=cv2.resize(img,(IMG_SIZE,IMG_SIZE))\n",
    "                training_data.append([newimg,Categories.index(cat)])\n",
    "            except Exception as e:\n",
    "                print('err')\n",
    "                pass   \n",
    "    return training_data\n",
    "tr=create_training()"
   ]
  },
  {
   "cell_type": "markdown",
   "id": "94895dc8",
   "metadata": {},
   "source": [
    "Defined Categories"
   ]
  },
  {
   "cell_type": "code",
   "execution_count": 3,
   "id": "04b88196",
   "metadata": {},
   "outputs": [
    {
     "name": "stdout",
     "output_type": "stream",
     "text": [
      "Category_code for Pizza is : 0\n",
      "Category_code for Soda is : 1\n",
      "Category_code for Bagel is : 2\n"
     ]
    }
   ],
   "source": [
    "# Categories=['Pizza','Soda','Bagel','Burger','Burrito','Donuts','Fries']\n",
    "Categories=['Pizza','Soda','Bagel']\n",
    "print(\"Category_code for Pizza is :\",Categories.index('Pizza'))\n",
    "print(\"Category_code for Soda is :\",Categories.index('Soda'))\n",
    "print(\"Category_code for Bagel is :\",Categories.index('Bagel'))\n",
    "# print(\"Category_code for Burger is :\",Categories.index('Burger'))\n",
    "# print(\"Category_code for Burrito is :\",Categories.index('Burrito'))\n",
    "# print(\"Category_code for Donuts is :\",Categories.index('Donuts'))\n",
    "# print(\"Category_code for Fries is :\",Categories.index('Fries'))"
   ]
  },
  {
   "cell_type": "code",
   "execution_count": 8,
   "id": "f9303585",
   "metadata": {
    "scrolled": true
   },
   "outputs": [
    {
     "data": {
      "text/plain": [
       "array([[[180, 161, 204],\n",
       "        [179, 161, 205],\n",
       "        [177, 163, 209],\n",
       "        ...,\n",
       "        [233, 207, 213],\n",
       "        [235, 209, 215],\n",
       "        [236, 210, 216]],\n",
       "\n",
       "       [[181, 161, 204],\n",
       "        [180, 162, 206],\n",
       "        [178, 164, 210],\n",
       "        ...,\n",
       "        [233, 207, 213],\n",
       "        [234, 209, 215],\n",
       "        [235, 209, 215]],\n",
       "\n",
       "       [[182, 163, 205],\n",
       "        [181, 164, 207],\n",
       "        [180, 167, 211],\n",
       "        ...,\n",
       "        [232, 206, 212],\n",
       "        [233, 207, 213],\n",
       "        [233, 207, 213]],\n",
       "\n",
       "       ...,\n",
       "\n",
       "       [[124, 108, 131],\n",
       "        [122, 108, 132],\n",
       "        [119, 108, 136],\n",
       "        ...,\n",
       "        [170, 200, 254],\n",
       "        [183, 206, 255],\n",
       "        [188, 209, 255]],\n",
       "\n",
       "       [[120, 104, 127],\n",
       "        [119, 105, 129],\n",
       "        [117, 106, 134],\n",
       "        ...,\n",
       "        [170, 199, 253],\n",
       "        [182, 206, 254],\n",
       "        [187, 208, 255]],\n",
       "\n",
       "       [[119, 103, 126],\n",
       "        [118, 103, 128],\n",
       "        [117, 105, 133],\n",
       "        ...,\n",
       "        [169, 199, 253],\n",
       "        [182, 205, 254],\n",
       "        [187, 208, 255]]], dtype=uint8)"
      ]
     },
     "execution_count": 8,
     "metadata": {},
     "output_type": "execute_result"
    }
   ],
   "source": [
    "training_data[100][0]"
   ]
  },
  {
   "cell_type": "code",
   "execution_count": 9,
   "id": "95c9f315",
   "metadata": {},
   "outputs": [
    {
     "data": {
      "text/plain": [
       "'Pizza'"
      ]
     },
     "execution_count": 9,
     "metadata": {},
     "output_type": "execute_result"
    }
   ],
   "source": [
    "Categories[training_data[100][1]]"
   ]
  },
  {
   "cell_type": "code",
   "execution_count": 12,
   "id": "e2a13dde",
   "metadata": {},
   "outputs": [
    {
     "data": {
      "text/plain": [
       "<matplotlib.image.AxesImage at 0x23fd8757490>"
      ]
     },
     "execution_count": 12,
     "metadata": {},
     "output_type": "execute_result"
    },
    {
     "data": {
      "image/png": "[encoded data removed]",
      "text/plain": [
       "<Figure size 432x288 with 1 Axes>"
      ]
     },
     "metadata": {
      "needs_background": "light"
     },
     "output_type": "display_data"
    }
   ],
   "source": [
    "import matplotlib.pyplot as plt\n",
    "plt.imshow(training_data[100][0])\n",
    "# plt.imshow(X[2])"
   ]
  },
  {
   "cell_type": "code",
   "execution_count": 13,
   "id": "3636c336",
   "metadata": {},
   "outputs": [
    {
     "data": {
      "text/plain": [
       "(305, 224, 224, 3)"
      ]
     },
     "execution_count": 13,
     "metadata": {},
     "output_type": "execute_result"
    }
   ],
   "source": [
    "import random\n",
    "random.shuffle(training_data)\n",
    "\n",
    "X=[]\n",
    "Y=[]\n",
    "\n",
    "for features,target in training_data:\n",
    "    X.append(features)\n",
    "    Y.append(target)\n",
    "    \n",
    "Y=np.array(Y)\n",
    "X=np.array(X).reshape(-1,IMG_SIZE,IMG_SIZE,3)\n",
    "X.shape"
   ]
  },
  {
   "cell_type": "code",
   "execution_count": 14,
   "id": "f5838b9c",
   "metadata": {},
   "outputs": [
    {
     "data": {
      "text/plain": [
       "(305,)"
      ]
     },
     "execution_count": 14,
     "metadata": {},
     "output_type": "execute_result"
    }
   ],
   "source": [
    "Y.shape"
   ]
  },
  {
   "cell_type": "code",
   "execution_count": 15,
   "id": "9487835e",
   "metadata": {},
   "outputs": [
    {
     "data": {
      "text/plain": [
       "(224, 224, 3)"
      ]
     },
     "execution_count": 15,
     "metadata": {},
     "output_type": "execute_result"
    }
   ],
   "source": [
    "X[0].shape"
   ]
  },
  {
   "cell_type": "code",
   "execution_count": null,
   "id": "4b4e2323",
   "metadata": {},
   "outputs": [],
   "source": [
    "# data_augmentation = tf.keras.Sequential([\n",
    "#      layers.experimental.preprocessing.RandomFlip(\"horizontal_and_vertical\"),\n",
    "#      layers.experimental.preprocessing.RandomRotation(0.2)])\n",
    "# image=X[2]\n",
    "# image = tf.expand_dims(image, 0)\n",
    "# plt.figure(figsize=(10, 10))\n",
    "\n",
    "# for i in range(3):\n",
    "#     augmented_image = data_augmentation(image)\n",
    "#     ax = plt.subplot(3, 3, i + 1)\n",
    "#     plt.imshow(augmented_image[0])\n",
    "#     plt.axis(\"off\")"
   ]
  },
  {
   "cell_type": "code",
   "execution_count": 20,
   "id": "ee69250e",
   "metadata": {},
   "outputs": [],
   "source": [
    "# load vgg16 backbone\n",
    "backbone = K.applications.VGG16(\n",
    "    weights=\"imagenet\",  # load weights pre-trained on imagenet\n",
    "    input_shape=(224, 224, 3), # set input shape per imagenet\n",
    "    include_top=False, # do not include the vgg16 classifier at the top.\n",
    ")  \n",
    "\n",
    "# freeze the backbone\n",
    "backbone.trainable = False\n",
    "\n",
    "flat = layers.Flatten()(backbone.output)\n",
    "cls = layers.Dense(512, activation=\"relu\")(flat)\n",
    "cls = layers.Dense(units=3, activation=\"softmax\", name=\"clshead\")(cls)\n",
    "\n",
    "model = models.Model(\n",
    "    inputs=backbone.input,\n",
    "    outputs=cls) \n",
    "\n",
    "model.compile(\n",
    "    optimizer=optimizers.Adam(learning_rate=0.001), \n",
    "    loss={'clshead': 'sparse_categorical_crossentropy'},\n",
    "    loss_weights={'clshead': 1.0},\n",
    "    metrics={'clshead': 'accuracy'}, \n",
    ")"
   ]
  },
  {
   "cell_type": "code",
   "execution_count": 21,
   "id": "c3381593",
   "metadata": {
    "scrolled": true
   },
   "outputs": [
    {
     "name": "stdout",
     "output_type": "stream",
     "text": [
      "Model: \"model_1\"\n",
      "_________________________________________________________________\n",
      " Layer (type)                Output Shape              Param #   \n",
      "=================================================================\n",
      " input_2 (InputLayer)        [(None, 224, 224, 3)]     0         \n",
      "                                                                 \n",
      " block1_conv1 (Conv2D)       (None, 224, 224, 64)      1792      \n",
      "                                                                 \n",
      " block1_conv2 (Conv2D)       (None, 224, 224, 64)      36928     \n",
      "                                                                 \n",
      " block1_pool (MaxPooling2D)  (None, 112, 112, 64)      0         \n",
      "                                                                 \n",
      " block2_conv1 (Conv2D)       (None, 112, 112, 128)     73856     \n",
      "                                                                 \n",
      " block2_conv2 (Conv2D)       (None, 112, 112, 128)     147584    \n",
      "                                                                 \n",
      " block2_pool (MaxPooling2D)  (None, 56, 56, 128)       0         \n",
      "                                                                 \n",
      " block3_conv1 (Conv2D)       (None, 56, 56, 256)       295168    \n",
      "                                                                 \n",
      " block3_conv2 (Conv2D)       (None, 56, 56, 256)       590080    \n",
      "                                                                 \n",
      " block3_conv3 (Conv2D)       (None, 56, 56, 256)       590080    \n",
      "                                                                 \n",
      " block3_pool (MaxPooling2D)  (None, 28, 28, 256)       0         \n",
      "                                                                 \n",
      " block4_conv1 (Conv2D)       (None, 28, 28, 512)       1180160   \n",
      "                                                                 \n",
      " block4_conv2 (Conv2D)       (None, 28, 28, 512)       2359808   \n",
      "                                                                 \n",
      " block4_conv3 (Conv2D)       (None, 28, 28, 512)       2359808   \n",
      "                                                                 \n",
      " block4_pool (MaxPooling2D)  (None, 14, 14, 512)       0         \n",
      "                                                                 \n",
      " block5_conv1 (Conv2D)       (None, 14, 14, 512)       2359808   \n",
      "                                                                 \n",
      " block5_conv2 (Conv2D)       (None, 14, 14, 512)       2359808   \n",
      "                                                                 \n",
      " block5_conv3 (Conv2D)       (None, 14, 14, 512)       2359808   \n",
      "                                                                 \n",
      " block5_pool (MaxPooling2D)  (None, 7, 7, 512)         0         \n",
      "                                                                 \n",
      " flatten_1 (Flatten)         (None, 25088)             0         \n",
      "                                                                 \n",
      " dense_1 (Dense)             (None, 512)               12845568  \n",
      "                                                                 \n",
      " clshead (Dense)             (None, 3)                 1539      \n",
      "                                                                 \n",
      "=================================================================\n",
      "Total params: 27,561,795\n",
      "Trainable params: 12,847,107\n",
      "Non-trainable params: 14,714,688\n",
      "_________________________________________________________________\n"
     ]
    }
   ],
   "source": [
    "# get model summary\n",
    "model.summary()"
   ]
  },
  {
   "cell_type": "code",
   "execution_count": 22,
   "id": "3ed26b68",
   "metadata": {},
   "outputs": [
    {
     "name": "stdout",
     "output_type": "stream",
     "text": [
      "Epoch 1/10\n",
      "27/27 [==============================] - 111s 4s/step - loss: 1.4269 - accuracy: 0.7418 - val_loss: 0.4551 - val_accuracy: 0.8696\n",
      "Epoch 2/10\n",
      "27/27 [==============================] - 94s 4s/step - loss: 0.2209 - accuracy: 0.9202 - val_loss: 0.8511 - val_accuracy: 0.8152\n",
      "Epoch 3/10\n",
      "27/27 [==============================] - 98s 4s/step - loss: 0.2458 - accuracy: 0.9296 - val_loss: 0.5530 - val_accuracy: 0.8370\n",
      "Epoch 4/10\n",
      "27/27 [==============================] - 112s 4s/step - loss: 0.1401 - accuracy: 0.9437 - val_loss: 0.4191 - val_accuracy: 0.9022\n",
      "Epoch 5/10\n",
      "27/27 [==============================] - 116s 4s/step - loss: 0.2745 - accuracy: 0.9249 - val_loss: 0.5928 - val_accuracy: 0.8696\n",
      "Epoch 6/10\n",
      "27/27 [==============================] - 137s 5s/step - loss: 0.0473 - accuracy: 0.9718 - val_loss: 0.5849 - val_accuracy: 0.8804\n",
      "Epoch 7/10\n",
      "27/27 [==============================] - 120s 4s/step - loss: 0.0063 - accuracy: 1.0000 - val_loss: 0.6162 - val_accuracy: 0.8804\n",
      "Epoch 8/10\n",
      "27/27 [==============================] - 125s 5s/step - loss: 0.0013 - accuracy: 1.0000 - val_loss: 0.5935 - val_accuracy: 0.8804\n",
      "Epoch 9/10\n",
      "27/27 [==============================] - 117s 4s/step - loss: 7.2554e-04 - accuracy: 1.0000 - val_loss: 0.5921 - val_accuracy: 0.8804\n",
      "Epoch 10/10\n",
      "27/27 [==============================] - 131s 5s/step - loss: 6.1918e-04 - accuracy: 1.0000 - val_loss: 0.5966 - val_accuracy: 0.8804\n"
     ]
    }
   ],
   "source": [
    "X=normalize(X)\n",
    "Y = K.utils.to_categorical(Y,3)\n",
    "history=model.fit(X,Y,validation_split=0.3,batch_size=8,epochs=10)"
   ]
  },
  {
   "cell_type": "code",
   "execution_count": 23,
   "id": "74c2c598",
   "metadata": {},
   "outputs": [
    {
     "data": {
      "text/plain": [
       "array([[1., 0., 0.],\n",
       "       [1., 0., 0.],\n",
       "       [1., 0., 0.],\n",
       "       [0., 1., 0.],\n",
       "       [1., 0., 0.],\n",
       "       [0., 1., 0.],\n",
       "       [1., 0., 0.],\n",
       "       [1., 0., 0.],\n",
       "       [1., 0., 0.],\n",
       "       [1., 0., 0.],\n",
       "       [1., 0., 0.],\n",
       "       [1., 0., 0.],\n",
       "       [0., 1., 0.],\n",
       "       [0., 1., 0.],\n",
       "       [1., 0., 0.],\n",
       "       [1., 0., 0.],\n",
       "       [1., 0., 0.],\n",
       "       [0., 1., 0.],\n",
       "       [0., 0., 1.],\n",
       "       [0., 0., 1.],\n",
       "       [1., 0., 0.],\n",
       "       [0., 1., 0.],\n",
       "       [0., 1., 0.],\n",
       "       [0., 1., 0.],\n",
       "       [0., 1., 0.],\n",
       "       [0., 0., 1.],\n",
       "       [1., 0., 0.],\n",
       "       [0., 1., 0.],\n",
       "       [0., 1., 0.],\n",
       "       [1., 0., 0.],\n",
       "       [1., 0., 0.],\n",
       "       [0., 0., 1.],\n",
       "       [1., 0., 0.],\n",
       "       [1., 0., 0.],\n",
       "       [0., 1., 0.],\n",
       "       [1., 0., 0.],\n",
       "       [1., 0., 0.],\n",
       "       [0., 1., 0.],\n",
       "       [0., 0., 1.],\n",
       "       [0., 1., 0.],\n",
       "       [0., 1., 0.],\n",
       "       [1., 0., 0.],\n",
       "       [1., 0., 0.],\n",
       "       [0., 1., 0.],\n",
       "       [0., 1., 0.],\n",
       "       [1., 0., 0.],\n",
       "       [1., 0., 0.],\n",
       "       [0., 1., 0.],\n",
       "       [0., 1., 0.],\n",
       "       [1., 0., 0.],\n",
       "       [1., 0., 0.],\n",
       "       [0., 1., 0.],\n",
       "       [0., 0., 1.],\n",
       "       [0., 1., 0.],\n",
       "       [1., 0., 0.],\n",
       "       [1., 0., 0.],\n",
       "       [1., 0., 0.],\n",
       "       [1., 0., 0.],\n",
       "       [0., 1., 0.],\n",
       "       [0., 1., 0.],\n",
       "       [1., 0., 0.],\n",
       "       [1., 0., 0.],\n",
       "       [0., 1., 0.],\n",
       "       [1., 0., 0.],\n",
       "       [0., 1., 0.],\n",
       "       [1., 0., 0.],\n",
       "       [0., 0., 1.],\n",
       "       [1., 0., 0.],\n",
       "       [0., 0., 1.],\n",
       "       [0., 1., 0.],\n",
       "       [0., 0., 1.],\n",
       "       [1., 0., 0.],\n",
       "       [0., 0., 1.],\n",
       "       [0., 0., 1.],\n",
       "       [1., 0., 0.],\n",
       "       [0., 1., 0.],\n",
       "       [1., 0., 0.],\n",
       "       [1., 0., 0.],\n",
       "       [0., 0., 1.],\n",
       "       [1., 0., 0.],\n",
       "       [0., 1., 0.],\n",
       "       [1., 0., 0.],\n",
       "       [1., 0., 0.],\n",
       "       [0., 1., 0.],\n",
       "       [1., 0., 0.],\n",
       "       [1., 0., 0.],\n",
       "       [0., 1., 0.],\n",
       "       [0., 0., 1.],\n",
       "       [1., 0., 0.],\n",
       "       [1., 0., 0.],\n",
       "       [1., 0., 0.],\n",
       "       [1., 0., 0.],\n",
       "       [1., 0., 0.],\n",
       "       [1., 0., 0.],\n",
       "       [1., 0., 0.],\n",
       "       [1., 0., 0.],\n",
       "       [1., 0., 0.],\n",
       "       [0., 1., 0.],\n",
       "       [1., 0., 0.],\n",
       "       [0., 0., 1.],\n",
       "       [1., 0., 0.],\n",
       "       [0., 0., 1.],\n",
       "       [0., 1., 0.],\n",
       "       [0., 1., 0.],\n",
       "       [1., 0., 0.],\n",
       "       [0., 1., 0.],\n",
       "       [1., 0., 0.],\n",
       "       [0., 0., 1.],\n",
       "       [0., 1., 0.],\n",
       "       [1., 0., 0.],\n",
       "       [0., 1., 0.],\n",
       "       [1., 0., 0.],\n",
       "       [0., 0., 1.],\n",
       "       [1., 0., 0.],\n",
       "       [0., 0., 1.],\n",
       "       [1., 0., 0.],\n",
       "       [1., 0., 0.],\n",
       "       [0., 1., 0.],\n",
       "       [1., 0., 0.],\n",
       "       [0., 0., 1.],\n",
       "       [1., 0., 0.],\n",
       "       [1., 0., 0.],\n",
       "       [0., 0., 1.],\n",
       "       [0., 0., 1.],\n",
       "       [1., 0., 0.],\n",
       "       [0., 1., 0.],\n",
       "       [0., 1., 0.],\n",
       "       [0., 0., 1.],\n",
       "       [1., 0., 0.],\n",
       "       [1., 0., 0.],\n",
       "       [1., 0., 0.],\n",
       "       [1., 0., 0.],\n",
       "       [1., 0., 0.],\n",
       "       [0., 0., 1.],\n",
       "       [1., 0., 0.],\n",
       "       [1., 0., 0.],\n",
       "       [0., 1., 0.],\n",
       "       [0., 0., 1.],\n",
       "       [1., 0., 0.],\n",
       "       [1., 0., 0.],\n",
       "       [0., 1., 0.],\n",
       "       [1., 0., 0.],\n",
       "       [1., 0., 0.],\n",
       "       [1., 0., 0.],\n",
       "       [1., 0., 0.],\n",
       "       [0., 0., 1.],\n",
       "       [1., 0., 0.],\n",
       "       [1., 0., 0.],\n",
       "       [1., 0., 0.],\n",
       "       [1., 0., 0.],\n",
       "       [1., 0., 0.],\n",
       "       [1., 0., 0.],\n",
       "       [0., 1., 0.],\n",
       "       [1., 0., 0.],\n",
       "       [1., 0., 0.],\n",
       "       [0., 0., 1.],\n",
       "       [0., 0., 1.],\n",
       "       [0., 1., 0.],\n",
       "       [1., 0., 0.],\n",
       "       [0., 0., 1.],\n",
       "       [1., 0., 0.],\n",
       "       [1., 0., 0.],\n",
       "       [0., 1., 0.],\n",
       "       [1., 0., 0.],\n",
       "       [0., 1., 0.],\n",
       "       [1., 0., 0.],\n",
       "       [1., 0., 0.],\n",
       "       [1., 0., 0.],\n",
       "       [1., 0., 0.],\n",
       "       [0., 0., 1.],\n",
       "       [1., 0., 0.],\n",
       "       [0., 1., 0.],\n",
       "       [0., 0., 1.],\n",
       "       [1., 0., 0.],\n",
       "       [1., 0., 0.],\n",
       "       [1., 0., 0.],\n",
       "       [1., 0., 0.],\n",
       "       [0., 1., 0.],\n",
       "       [0., 1., 0.],\n",
       "       [0., 0., 1.],\n",
       "       [1., 0., 0.],\n",
       "       [1., 0., 0.],\n",
       "       [1., 0., 0.],\n",
       "       [0., 1., 0.],\n",
       "       [1., 0., 0.],\n",
       "       [1., 0., 0.],\n",
       "       [0., 0., 1.],\n",
       "       [0., 0., 1.],\n",
       "       [0., 1., 0.],\n",
       "       [0., 1., 0.],\n",
       "       [0., 1., 0.],\n",
       "       [1., 0., 0.],\n",
       "       [1., 0., 0.],\n",
       "       [0., 0., 1.],\n",
       "       [0., 1., 0.],\n",
       "       [1., 0., 0.],\n",
       "       [1., 0., 0.],\n",
       "       [0., 1., 0.],\n",
       "       [1., 0., 0.],\n",
       "       [1., 0., 0.],\n",
       "       [1., 0., 0.],\n",
       "       [1., 0., 0.],\n",
       "       [1., 0., 0.],\n",
       "       [1., 0., 0.],\n",
       "       [1., 0., 0.],\n",
       "       [1., 0., 0.],\n",
       "       [0., 0., 1.],\n",
       "       [1., 0., 0.],\n",
       "       [1., 0., 0.],\n",
       "       [0., 0., 1.],\n",
       "       [1., 0., 0.],\n",
       "       [1., 0., 0.],\n",
       "       [1., 0., 0.],\n",
       "       [1., 0., 0.],\n",
       "       [0., 1., 0.],\n",
       "       [1., 0., 0.],\n",
       "       [1., 0., 0.],\n",
       "       [1., 0., 0.],\n",
       "       [0., 0., 1.],\n",
       "       [1., 0., 0.],\n",
       "       [0., 1., 0.],\n",
       "       [1., 0., 0.],\n",
       "       [1., 0., 0.],\n",
       "       [1., 0., 0.],\n",
       "       [1., 0., 0.],\n",
       "       [1., 0., 0.],\n",
       "       [1., 0., 0.],\n",
       "       [1., 0., 0.],\n",
       "       [1., 0., 0.],\n",
       "       [1., 0., 0.],\n",
       "       [0., 0., 1.],\n",
       "       [1., 0., 0.],\n",
       "       [1., 0., 0.],\n",
       "       [0., 1., 0.],\n",
       "       [1., 0., 0.],\n",
       "       [1., 0., 0.],\n",
       "       [0., 0., 1.],\n",
       "       [1., 0., 0.],\n",
       "       [0., 1., 0.],\n",
       "       [0., 1., 0.],\n",
       "       [0., 1., 0.],\n",
       "       [1., 0., 0.],\n",
       "       [0., 0., 1.],\n",
       "       [0., 1., 0.],\n",
       "       [1., 0., 0.],\n",
       "       [0., 0., 1.],\n",
       "       [1., 0., 0.],\n",
       "       [1., 0., 0.],\n",
       "       [0., 1., 0.],\n",
       "       [0., 1., 0.],\n",
       "       [1., 0., 0.],\n",
       "       [1., 0., 0.],\n",
       "       [1., 0., 0.],\n",
       "       [1., 0., 0.],\n",
       "       [0., 1., 0.],\n",
       "       [1., 0., 0.],\n",
       "       [1., 0., 0.],\n",
       "       [0., 1., 0.],\n",
       "       [0., 1., 0.],\n",
       "       [0., 0., 1.],\n",
       "       [0., 1., 0.],\n",
       "       [1., 0., 0.],\n",
       "       [0., 1., 0.],\n",
       "       [1., 0., 0.],\n",
       "       [1., 0., 0.],\n",
       "       [1., 0., 0.],\n",
       "       [0., 1., 0.],\n",
       "       [1., 0., 0.],\n",
       "       [1., 0., 0.],\n",
       "       [0., 0., 1.],\n",
       "       [1., 0., 0.],\n",
       "       [0., 1., 0.],\n",
       "       [1., 0., 0.],\n",
       "       [1., 0., 0.],\n",
       "       [1., 0., 0.],\n",
       "       [1., 0., 0.],\n",
       "       [1., 0., 0.],\n",
       "       [0., 1., 0.],\n",
       "       [1., 0., 0.],\n",
       "       [0., 1., 0.],\n",
       "       [1., 0., 0.],\n",
       "       [0., 1., 0.],\n",
       "       [0., 1., 0.],\n",
       "       [0., 0., 1.],\n",
       "       [1., 0., 0.],\n",
       "       [0., 0., 1.],\n",
       "       [1., 0., 0.],\n",
       "       [0., 1., 0.],\n",
       "       [1., 0., 0.],\n",
       "       [1., 0., 0.],\n",
       "       [1., 0., 0.],\n",
       "       [0., 0., 1.],\n",
       "       [0., 0., 1.],\n",
       "       [0., 0., 1.],\n",
       "       [1., 0., 0.],\n",
       "       [0., 0., 1.],\n",
       "       [0., 0., 1.],\n",
       "       [1., 0., 0.],\n",
       "       [0., 0., 1.],\n",
       "       [0., 1., 0.],\n",
       "       [1., 0., 0.],\n",
       "       [1., 0., 0.],\n",
       "       [0., 1., 0.],\n",
       "       [1., 0., 0.],\n",
       "       [0., 1., 0.]], dtype=float32)"
      ]
     },
     "execution_count": 23,
     "metadata": {},
     "output_type": "execute_result"
    }
   ],
   "source": [
    "Y_onehot = K.utils.to_categorical(Y,3)\n",
    "Y_onehot"
   ]
  }
 ],
 "metadata": {
  "kernelspec": {
   "display_name": "Python 3 (ipykernel)",
   "language": "python",
   "name": "python3"
  },
  "language_info": {
   "codemirror_mode": {
    "name": "ipython",
    "version": 3
   },
   "file_extension": ".py",
   "mimetype": "text/x-python",
   "name": "python",
   "nbconvert_exporter": "python",
   "pygments_lexer": "ipython3",
   "version": "3.9.12"
  }
 },
 "nbformat": 4,
 "nbformat_minor": 5
}
